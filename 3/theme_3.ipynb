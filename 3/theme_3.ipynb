{
 "cells": [
  {
   "cell_type": "code",
   "execution_count": 39,
   "metadata": {
    "id": "hwvofJ6H4t-L"
   },
   "outputs": [],
   "source": [
    "import numpy as np\n",
    "import pandas as pd\n",
    "import seaborn as sb\n",
    "import matplotlib.pyplot as plt\n",
    "import scipy.stats as st\n",
    "from statsmodels.stats.dist_dependence_measures import distance_correlation\n",
    "from hyppo.independence import HHG"
   ]
  },
  {
   "cell_type": "markdown",
   "metadata": {},
   "source": [
    "**<h1>1.1<h1>**"
   ]
  },
  {
   "cell_type": "code",
   "execution_count": 2,
   "metadata": {},
   "outputs": [],
   "source": [
    "data = []\n",
    "with open('amazon-books.txt') as f:\n",
    "    lines = f.readlines()\n",
    "    for line in lines:\n",
    "        data.append(line.split('\\t'))\n",
    "data = np.array(data)     "
   ]
  },
  {
   "cell_type": "code",
   "execution_count": 3,
   "metadata": {},
   "outputs": [
    {
     "name": "stdout",
     "output_type": "stream",
     "text": [
      "                                               Title       Author List Price  \\\n",
      "0  \"1,001 Facts that Will Scare the S#*t Out of Y...  Cary McNeal      12.95   \n",
      "\n",
      "  Amazon Price Hard/ Paper NumPages    Publisher Pub year     ISBN-10 Height  \\\n",
      "0         5.18           P      304  Adams Media     2010  1605506249    7.8   \n",
      "\n",
      "  Width Thick Weight (oz)\\n  \n",
      "0   5.5   0.8        11.2\\n  \n"
     ]
    }
   ],
   "source": [
    "db = pd.DataFrame(columns=data[0], data=data[1:])\n",
    "print(db.head(1))"
   ]
  },
  {
   "cell_type": "code",
   "execution_count": 4,
   "metadata": {},
   "outputs": [
    {
     "name": "stdout",
     "output_type": "stream",
     "text": [
      "323 325\n"
     ]
    }
   ],
   "source": [
    "price_v = db[\"Amazon Price\"].values\n",
    "page_num_v = db[\"NumPages\"].values\n",
    "\n",
    "price = []\n",
    "page_num = []\n",
    "for (x, y) in zip(price_v, page_num_v):\n",
    "    if len(y) != 0:\n",
    "        price.append(float(x))\n",
    "        page_num.append(float(y))\n",
    "price = np.array(price)\n",
    "page_num = np.array(page_num)\n",
    "\n",
    "print(len(price), len(price_v))"
   ]
  },
  {
   "cell_type": "code",
   "execution_count": 50,
   "metadata": {},
   "outputs": [
    {
     "data": {
      "text/plain": [
       "(0.0, 30.0)"
      ]
     },
     "execution_count": 50,
     "metadata": {},
     "output_type": "execute_result"
    },
    {
     "data": {
      "image/png": "[encoded data removed]",
      "text/plain": [
       "<Figure size 640x480 with 1 Axes>"
      ]
     },
     "metadata": {},
     "output_type": "display_data"
    }
   ],
   "source": [
    "plt.scatter(price, page_num)\n",
    "plt.xlim([0, 30])"
   ]
  },
  {
   "cell_type": "code",
   "execution_count": 46,
   "metadata": {},
   "outputs": [],
   "source": [
    "def Cov(X, Y):\n",
    "    cov = 0\n",
    "    x_mean = X.mean()\n",
    "    y_mean = Y.mean()\n",
    "    for x, y in zip(X, Y):\n",
    "        cov += (x - x_mean) * (y - y_mean)\n",
    "    cov /= len(X)\n",
    "    return cov"
   ]
  },
  {
   "cell_type": "code",
   "execution_count": 47,
   "metadata": {},
   "outputs": [],
   "source": [
    "def Corr(X, Y):\n",
    "    corr = 0\n",
    "    sx = np.mean((X - X.mean())**2)\n",
    "    sy = np.mean((Y - Y.mean())**2)\n",
    "    corr = Cov(X, Y) / np.sqrt(sx * sy)\n",
    "    return corr"
   ]
  },
  {
   "cell_type": "code",
   "execution_count": 49,
   "metadata": {},
   "outputs": [
    {
     "data": {
      "text/plain": [
       "0.12968811316309622"
      ]
     },
     "execution_count": 49,
     "metadata": {},
     "output_type": "execute_result"
    }
   ],
   "source": [
    "Corr(price, page_num)"
   ]
  },
  {
   "cell_type": "code",
   "execution_count": 8,
   "metadata": {},
   "outputs": [
    {
     "name": "stdout",
     "output_type": "stream",
     "text": [
      "[[1.         0.12968811]\n",
      " [0.12968811 1.        ]]\n"
     ]
    }
   ],
   "source": [
    "#corr_ = Corr(price, page_num)\n",
    "corr_ = np.corrcoef(price, page_num)\n",
    "print(corr_)\n",
    "corr_ = corr_[0, 1]"
   ]
  },
  {
   "cell_type": "code",
   "execution_count": 42,
   "metadata": {},
   "outputs": [
    {
     "name": "stdout",
     "output_type": "stream",
     "text": [
      "Pearson      \t0.13\n",
      "Spearmen     \t0.195\n",
      "Kendel       \t0.132\n",
      "Szekely-Rizzo\t0.172\n",
      "HHG(pvalue)  \t0.421\n"
     ]
    }
   ],
   "source": [
    "pearson_1 = st.pearsonr(price, page_num)\n",
    "spearman_1 = st.spearmanr(price, page_num)\n",
    "kendall_1 = st.kendalltau(price, page_num)\n",
    "szek_riz_1 = distance_correlation(price, page_num)\n",
    "hhg_1 = HHG().test(price, page_num, auto=True)\n",
    "crit_names = [\"Pearson      \", \"Spearmen     \", \"Kendel       \", \"Szekely-Rizzo\", \"HHG(pvalue)  \"]\n",
    "arr_coef = [pearson_1[0], spearman_1[0], kendall_1[0], szek_riz_1, hhg_1.pvalue]\n",
    "for j in range(5):\n",
    "    print(crit_names[j], round(arr_coef[j], 3), sep='\\t', end='\\n')"
   ]
  },
  {
   "cell_type": "code",
   "execution_count": 9,
   "metadata": {},
   "outputs": [
    {
     "name": "stdout",
     "output_type": "stream",
     "text": [
      "[[  189.49545991   289.18298704]\n",
      " [  289.18298704 26238.94238794]]\n"
     ]
    }
   ],
   "source": [
    "mu_ = [price.mean(), page_num.mean()]\n",
    "#cov_ = [[Cov(price, price), Cov(price, page_num)], [Cov(page_num, price), Cov(page_num, page_num)]]\n",
    "cov_ = np.cov(price, page_num)\n",
    "print(cov_)"
   ]
  },
  {
   "cell_type": "code",
   "execution_count": 10,
   "metadata": {},
   "outputs": [],
   "source": [
    "bt_data = np.random.multivariate_normal(mu_, cov_, (len(price), len(page_num)))\n",
    "corr_bt = np.zeros(100)\n",
    "for i in range(100):\n",
    "    bt_data = np.random.multivariate_normal(mu_, cov_, size=len(price))\n",
    "    X = (np.array(bt_data).T)[0]\n",
    "    Y = (np.array(bt_data).T)[1]\n",
    "    #corr_bt[i] = Corr(X, Y)\n",
    "    corr_bt[i] = np.corrcoef(X, Y)[0, 1]\n",
    "corr_bt = np.sort(corr_bt)"
   ]
  },
  {
   "cell_type": "code",
   "execution_count": 11,
   "metadata": {},
   "outputs": [
    {
     "name": "stdout",
     "output_type": "stream",
     "text": [
      "[-0.00433397  0.01061388  0.02661546  0.02886861  0.0299969   0.03384235\n",
      "  0.03593783  0.03705913  0.03928919  0.03974105  0.04874624  0.05907001\n",
      "  0.06202182  0.06537847  0.06668914  0.07870106  0.08263149  0.08743361\n",
      "  0.08838825  0.0901353   0.09039803  0.09603663  0.0976283   0.09871374\n",
      "  0.09883951  0.10113596  0.10238004  0.10254152  0.10318469  0.10318619\n",
      "  0.10330056  0.10482267  0.1048308   0.10646007  0.10679868  0.10938811\n",
      "  0.10998905  0.11249265  0.11659872  0.11718144  0.1190832   0.12172017\n",
      "  0.12193808  0.12216057  0.12219853  0.12557788  0.12752098  0.12766905\n",
      "  0.12771367  0.12866125  0.12869372  0.13037246  0.13042783  0.13265853\n",
      "  0.1345287   0.13491922  0.13542213  0.13550184  0.13555407  0.13588708\n",
      "  0.13769058  0.13807105  0.13897927  0.14091117  0.14094046  0.14473149\n",
      "  0.14607183  0.14629652  0.14947991  0.14976593  0.15010221  0.15094212\n",
      "  0.15145847  0.1532288   0.15609244  0.15724015  0.15845344  0.15876722\n",
      "  0.15924476  0.16526403  0.16566431  0.17050735  0.17376688  0.17479699\n",
      "  0.18104137  0.18654492  0.18838987  0.19657505  0.20375995  0.20583954\n",
      "  0.20703433  0.20929383  0.21321792  0.2164472   0.22290008  0.22992877\n",
      "  0.23445432  0.25078574  0.26171298  0.26611039]\n"
     ]
    }
   ],
   "source": [
    "print(corr_bt)"
   ]
  },
  {
   "cell_type": "code",
   "execution_count": 12,
   "metadata": {},
   "outputs": [
    {
     "data": {
      "text/plain": [
       "<seaborn.axisgrid.FacetGrid at 0x220fd5a0970>"
      ]
     },
     "execution_count": 12,
     "metadata": {},
     "output_type": "execute_result"
    },
    {
     "data": {
      "image/png": "[encoded data removed]",
      "text/plain": [
       "<Figure size 500x500 with 1 Axes>"
      ]
     },
     "metadata": {},
     "output_type": "display_data"
    }
   ],
   "source": [
    "sb.displot(corr_bt, kde=\"True\")"
   ]
  },
  {
   "cell_type": "code",
   "execution_count": 13,
   "metadata": {},
   "outputs": [
    {
     "name": "stdout",
     "output_type": "stream",
     "text": [
      "(0.02768570849125276, 0.2430283124356813)\n"
     ]
    }
   ],
   "source": [
    "x_g = np.quantile(corr_bt, 0.025)\n",
    "x_b = np.quantile(corr_bt, 1 - 0.025)\n",
    "print((x_g, x_b))"
   ]
  },
  {
   "attachments": {},
   "cell_type": "markdown",
   "metadata": {},
   "source": [
    "**Percentile**"
   ]
  },
  {
   "cell_type": "code",
   "execution_count": 14,
   "metadata": {},
   "outputs": [
    {
     "name": "stdout",
     "output_type": "stream",
     "text": [
      "(0.0266154601582069, 0.2507857371825394)\n"
     ]
    }
   ],
   "source": [
    "per_l = 0\n",
    "per_r = 0\n",
    "for i in range(len(corr_bt)):\n",
    "    if corr_bt[i] > x_g:\n",
    "        per_l = corr_bt[i - 1]\n",
    "        break\n",
    "for i in range(len(corr_bt)-1, 0, -1):\n",
    "    if corr_bt[i] < x_b:\n",
    "        per_r = corr_bt[i + 1]\n",
    "        break\n",
    "print((per_l, per_r))"
   ]
  },
  {
   "cell_type": "code",
   "execution_count": 15,
   "metadata": {},
   "outputs": [
    {
     "name": "stdout",
     "output_type": "stream",
     "text": [
      "0.1296881131630963\n"
     ]
    }
   ],
   "source": [
    "print(corr_)"
   ]
  },
  {
   "attachments": {},
   "cell_type": "markdown",
   "metadata": {},
   "source": [
    "**Pivotal**"
   ]
  },
  {
   "cell_type": "code",
   "execution_count": 16,
   "metadata": {},
   "outputs": [],
   "source": [
    "delta = corr_bt - corr_\n",
    "delta = np.sort(delta)"
   ]
  },
  {
   "cell_type": "code",
   "execution_count": 17,
   "metadata": {},
   "outputs": [
    {
     "name": "stdout",
     "output_type": "stream",
     "text": [
      "[ 0.26371019  0.24876235  0.23276077  0.23050761  0.22937933  0.22553387\n",
      "  0.2234384   0.2223171   0.22008703  0.21963518  0.21062999  0.20030621\n",
      "  0.19735441  0.19399776  0.19268709  0.18067517  0.17674473  0.17194261\n",
      "  0.17098798  0.16924093  0.16897819  0.1633396   0.16174792  0.16066248\n",
      "  0.16053672  0.15824027  0.15699618  0.15683471  0.15619154  0.15619003\n",
      "  0.15607566  0.15455355  0.15454543  0.15291615  0.15257755  0.14998812\n",
      "  0.14938718  0.14688357  0.14277751  0.14219478  0.14029302  0.13765606\n",
      "  0.13743815  0.13721565  0.13717769  0.13379835  0.13185525  0.13170718\n",
      "  0.13166256  0.13071498  0.1306825   0.12900377  0.1289484   0.12671769\n",
      "  0.12484753  0.12445701  0.1239541   0.12387438  0.12382216  0.12348915\n",
      "  0.12168565  0.12130518  0.12039696  0.11846506  0.11843577  0.11464474\n",
      "  0.1133044   0.11307971  0.10989632  0.1096103   0.10927402  0.10843411\n",
      "  0.10791776  0.10614743  0.10328379  0.10213607  0.10092279  0.10060901\n",
      "  0.10013147  0.09411219  0.09371191  0.08886887  0.08560935  0.08457923\n",
      "  0.07833486  0.0728313   0.07098635  0.06280118  0.05561628  0.05353668\n",
      "  0.05234189  0.05008239  0.04615831  0.04292903  0.03647615  0.02944746\n",
      "  0.02492191  0.00859049 -0.00233676 -0.00673417]\n"
     ]
    }
   ],
   "source": [
    "print(corr_ - delta)"
   ]
  },
  {
   "cell_type": "code",
   "execution_count": 18,
   "metadata": {},
   "outputs": [
    {
     "data": {
      "text/plain": [
       "<seaborn.axisgrid.FacetGrid at 0x220a0a094e0>"
      ]
     },
     "execution_count": 18,
     "metadata": {},
     "output_type": "execute_result"
    },
    {
     "data": {
      "image/png": "[encoded data removed]",
      "text/plain": [
       "<Figure size 500x500 with 1 Axes>"
      ]
     },
     "metadata": {},
     "output_type": "display_data"
    }
   ],
   "source": [
    "sb.displot(delta, kde=\"True\")"
   ]
  },
  {
   "cell_type": "code",
   "execution_count": 19,
   "metadata": {},
   "outputs": [
    {
     "name": "stdout",
     "output_type": "stream",
     "text": [
      "(0.016347913890511323, 0.23169051783493985)\n"
     ]
    }
   ],
   "source": [
    "x_g = np.quantile(delta, 0.025)\n",
    "x_b = np.quantile(delta, 1 - 0.025)\n",
    "print((corr_ - x_b, corr_ - x_g))"
   ]
  },
  {
   "cell_type": "code",
   "execution_count": 20,
   "metadata": {},
   "outputs": [
    {
     "name": "stdout",
     "output_type": "stream",
     "text": [
      "(0.008590489143653235, 0.23276076616798572)\n"
     ]
    }
   ],
   "source": [
    "piv_l = 0\n",
    "piv_r = 0\n",
    "for i in range(len(delta)):\n",
    "    if delta[i] > x_g:\n",
    "        piv_l = delta[i - 1]\n",
    "        break\n",
    "for i in range(len(delta) - 1, 0, -1):\n",
    "    if delta[i] < x_b:\n",
    "        piv_r = delta[i + 1]\n",
    "        break\n",
    "print((corr_ - piv_r, corr_ -  piv_l))"
   ]
  },
  {
   "cell_type": "code",
   "execution_count": 21,
   "metadata": {},
   "outputs": [
    {
     "name": "stdout",
     "output_type": "stream",
     "text": [
      "0.1296881131630963\n"
     ]
    }
   ],
   "source": [
    "print(corr_)"
   ]
  },
  {
   "attachments": {},
   "cell_type": "markdown",
   "metadata": {},
   "source": [
    "**<h1>1.2<h1>**"
   ]
  },
  {
   "cell_type": "code",
   "execution_count": 22,
   "metadata": {},
   "outputs": [],
   "source": [
    "db = []\n",
    "with open('babysamp-98.txt') as f:\n",
    "    lines = f.readlines()\n",
    "    for line in lines:\n",
    "        db.append(line.split())\n",
    "db = np.array(db)        "
   ]
  },
  {
   "cell_type": "code",
   "execution_count": 23,
   "metadata": {},
   "outputs": [
    {
     "name": "stdout",
     "output_type": "stream",
     "text": [
      "200\n"
     ]
    }
   ],
   "source": [
    "db_s = []\n",
    "for el in db:\n",
    "    if el[7] == 'F':\n",
    "        db_s.append(0)\n",
    "    elif el[7] == 'M':\n",
    "        db_s.append(1)\n",
    "db_s = np.array(db_s)\n",
    "print(len(db_s))"
   ]
  },
  {
   "cell_type": "code",
   "execution_count": 24,
   "metadata": {},
   "outputs": [
    {
     "name": "stdout",
     "output_type": "stream",
     "text": [
      "0.515 0.249775\n"
     ]
    }
   ],
   "source": [
    "theta_ = db_s.mean()\n",
    "sigma_ = theta_ * (1 - theta_)\n",
    "print(theta_, sigma_)"
   ]
  },
  {
   "cell_type": "code",
   "execution_count": 25,
   "metadata": {},
   "outputs": [
    {
     "name": "stdout",
     "output_type": "stream",
     "text": [
      "1.959963984540054\n"
     ]
    }
   ],
   "source": [
    "alpha = 0.05\n",
    "z_a = st.norm.ppf(1 - alpha / 2)\n",
    "print(z_a)"
   ]
  },
  {
   "cell_type": "code",
   "execution_count": 26,
   "metadata": {},
   "outputs": [
    {
     "name": "stdout",
     "output_type": "stream",
     "text": [
      "(0.48038358722730595, 0.5496164127726941)\n"
     ]
    }
   ],
   "source": [
    "print((theta_ - (z_a * sigma_) / np.sqrt(len(db_s)), theta_ + (z_a * sigma_) / np.sqrt(len(db_s))))"
   ]
  },
  {
   "cell_type": "code",
   "execution_count": 27,
   "metadata": {},
   "outputs": [
    {
     "name": "stdout",
     "output_type": "stream",
     "text": [
      "[0 0 0 0 0 1 0 1 1 1 0 0 1 0 1 1 0 0 0 0 1 0 0 0 1 1 1 1 0 0 1 1 1 0 0 1 0\n",
      " 1 1 1 1 1 1 1 1 0 1 0 1 0 0 0 1 0 1 1 1 0 1 0 0 0 1 1 1 1 0 0 1 1 1 0 1 0\n",
      " 1 0 0 1 0 0 1 1 0 0 1 0 1 0 0 0 0 1 1 0 0 0 0 0 1 1 1 1 1 1 0 1 1 0 1 1 1\n",
      " 1 1 1 0 1 0 0 1 0 1 0 0 0 1 0 1 0 1 1 0 0 0 1 1 1 1 0 0 0 1 0 0 1 0 0 0 0\n",
      " 0 0 0 1 1 1 0 1 0 1 1 0 0 0 1 1 0 0 1 1 0 0 1 1 1 1 0 0 0 1 1 1 0 1 0 1 1\n",
      " 1 1 1 0 0 0 1 0 1 0 0 1 1 1 1]\n"
     ]
    }
   ],
   "source": [
    "print(db_s)"
   ]
  },
  {
   "cell_type": "code",
   "execution_count": 28,
   "metadata": {},
   "outputs": [
    {
     "name": "stdout",
     "output_type": "stream",
     "text": [
      "103 200\n"
     ]
    }
   ],
   "source": [
    "k = sum(db_s)\n",
    "n = len(db_s)\n",
    "print(k, n)"
   ]
  },
  {
   "cell_type": "code",
   "execution_count": 29,
   "metadata": {},
   "outputs": [],
   "source": [
    "t_1 = -1\n",
    "t_2 = -1\n",
    "for t in np.linspace(0, 1, 1000):\n",
    "    if abs(st.binom.cdf(k, n, t) - alpha / 2) < 0.001:\n",
    "        t_1 = t\n",
    "        if t_2 != -1:\n",
    "            break\n",
    "    if abs(st.binom.cdf(k - 1, n, t) - 1 + alpha / 2) < 0.001:\n",
    "        t_2 = t\n",
    "        if t_1 != -1:\n",
    "            break"
   ]
  },
  {
   "cell_type": "code",
   "execution_count": 30,
   "metadata": {},
   "outputs": [
    {
     "name": "stdout",
     "output_type": "stream",
     "text": [
      "(0.44344344344344344, 0.5855855855855856)\n"
     ]
    }
   ],
   "source": [
    "print((t_2, t_1))"
   ]
  },
  {
   "attachments": {},
   "cell_type": "markdown",
   "metadata": {},
   "source": [
    "**<h1>1.3<h1>**"
   ]
  },
  {
   "cell_type": "code",
   "execution_count": 31,
   "metadata": {},
   "outputs": [],
   "source": [
    "def G_inv(mean, sigma, n, z):\n",
    "    return mean - sigma * z / np.sqrt(n)"
   ]
  },
  {
   "cell_type": "code",
   "execution_count": 32,
   "metadata": {},
   "outputs": [],
   "source": [
    "data = []\n",
    "with open('nissan.txt') as f:\n",
    "    lines = f.readlines()\n",
    "    for line in lines:\n",
    "        data.append(line)\n",
    "data = np.array(data)   "
   ]
  },
  {
   "cell_type": "code",
   "execution_count": 33,
   "metadata": {},
   "outputs": [
    {
     "name": "stdout",
     "output_type": "stream",
     "text": [
      "[21.964 23.694 18.824 20.851 26.37  22.81  25.785 24.353 23.385 23.381\n",
      " 28.175 21.232 25.603 21.064 22.067 23.867 24.226 19.512 22.147 19.948\n",
      " 22.65  21.197 20.748 20.351 26.54  25.385 21.613 21.4   22.035 21.81\n",
      " 23.806 23.678 26.462 21.514 19.7   18.362 25.403 23.158 22.091 23.768\n",
      " 20.201 21.111 20.573 27.434 20.256 22.687 25.206 21.169 22.747 24.\n",
      " 19.375 26.113 20.625 21.511 21.441 21.98  21.667 20.26  19.125 23.652\n",
      " 18.693 18.374 24.885 21.405 21.806 25.111 20.903 19.343 23.235 25.088\n",
      " 20.9   28.037 19.789 22.576 21.374 26.894 20.139 21.399 16.767 14.684\n",
      " 21.739 23.803 20.563 25.188 25.794 24.122 23.356 24.632 23.407 22.958\n",
      " 20.815 20.762 21.194 21.667 23.979 24.514 24.5   22.344 22.847 19.551]\n"
     ]
    }
   ],
   "source": [
    "X = np.array([float(x) for x in data[1:]])\n",
    "print(X)"
   ]
  },
  {
   "cell_type": "code",
   "execution_count": 34,
   "metadata": {},
   "outputs": [
    {
     "name": "stdout",
     "output_type": "stream",
     "text": [
      "5.98847986858586\n"
     ]
    }
   ],
   "source": [
    "S2 = 0\n",
    "for x in X:\n",
    "    S2 += (x - X.mean())**2\n",
    "S2 *= 1 / (len(X) - 1)\n",
    "print(S2)"
   ]
  },
  {
   "cell_type": "code",
   "execution_count": 35,
   "metadata": {},
   "outputs": [
    {
     "name": "stdout",
     "output_type": "stream",
     "text": [
      "22.411990000000007\n"
     ]
    }
   ],
   "source": [
    "print(X.mean())"
   ]
  },
  {
   "attachments": {},
   "cell_type": "markdown",
   "metadata": {},
   "source": [
    "Accurate"
   ]
  },
  {
   "cell_type": "code",
   "execution_count": 38,
   "metadata": {},
   "outputs": [
    {
     "name": "stdout",
     "output_type": "stream",
     "text": [
      "[21.926424913119547, 22.897555086880466]\n"
     ]
    }
   ],
   "source": [
    "alpha = 0.05\n",
    "beta = alpha / 2\n",
    "z_ab = st.t.ppf(1 - alpha + beta, len(X) - 1)\n",
    "z_b = st.t.ppf(beta, len(X) - 1)\n",
    "print([G_inv(X.mean(), np.sqrt(S2), len(X), z_ab), G_inv(X.mean(), np.sqrt(S2), len(X), z_b)])"
   ]
  },
  {
   "attachments": {},
   "cell_type": "markdown",
   "metadata": {},
   "source": [
    "Asymptotic"
   ]
  },
  {
   "cell_type": "code",
   "execution_count": 85,
   "metadata": {},
   "outputs": [
    {
     "name": "stdout",
     "output_type": "stream",
     "text": [
      "(21.932359946586665, 22.891620053413348)\n"
     ]
    }
   ],
   "source": [
    "z_a = scipy.stats.norm.ppf(1 - alpha / 2)\n",
    "print((X.mean() - z_a * np.sqrt(S2) / np.sqrt(len(X)), X.mean() + z_a * np.sqrt(S2) / np.sqrt(len(X))))"
   ]
  },
  {
   "attachments": {},
   "cell_type": "markdown",
   "metadata": {},
   "source": [
    "Bootstrap"
   ]
  },
  {
   "cell_type": "code",
   "execution_count": 86,
   "metadata": {},
   "outputs": [
    {
     "name": "stdout",
     "output_type": "stream",
     "text": [
      "(21.93119404981628, 22.892785950183733)\n"
     ]
    }
   ],
   "source": [
    "bt_S = 0\n",
    "for i in range(100):\n",
    "    Y = np.random.normal(loc=X.mean(), scale=np.sqrt(S2), size=len(X))\n",
    "    bt_S += (Y.mean() - X.mean())**2\n",
    "bt_S = bt_S / 100\n",
    "print((X.mean() - z_a * np.sqrt(bt_S), X.mean() + z_a * np.sqrt(bt_S)))"
   ]
  }
 ],
 "metadata": {
  "kernelspec": {
   "display_name": "Python 3",
   "language": "python",
   "name": "python3"
  },
  "language_info": {
   "codemirror_mode": {
    "name": "ipython",
    "version": 3
   },
   "file_extension": ".py",
   "mimetype": "text/x-python",
   "name": "python",
   "nbconvert_exporter": "python",
   "pygments_lexer": "ipython3",
   "version": "3.10.4"
  },
  "orig_nbformat": 4,
  "vscode": {
   "interpreter": {
    "hash": "9a22608fd316047f994308a50da8ff2876a45a85c6efa71dc148ad0e10c959df"
   }
  }
 },
 "nbformat": 4,
 "nbformat_minor": 2
}
