{
 "cells": [
  {
   "cell_type": "code",
   "execution_count": 2,
   "metadata": {},
   "outputs": [],
   "source": [
    "#Доверительные  интервалы для одномерной равномерной выборки\n",
    "import numpy.random as rand\n",
    "import numpy as np"
   ]
  },
  {
   "cell_type": "code",
   "execution_count": 4,
   "metadata": {},
   "outputs": [
    {
     "name": "stdout",
     "output_type": "stream",
     "text": [
      "0.06200000000000005\n",
      "1.0000000000000007\n"
     ]
    }
   ],
   "source": [
    "pPerc, pPiv = np.zeros(1000), np.zeros(1000)\n",
    "#истинное значение параметра theta\n",
    "th=1\n",
    "for j in range(1000):\n",
    "    #моделируем выборку и оцениваем ее максимум\n",
    "    x=rand.random(50)*th\n",
    "    th1=max(x)  \n",
    "    thX=np.zeros(100)\n",
    "    for i in range(100):\n",
    "        thX[i]=max(rand.random(50)*th1)\n",
    "    pPerc[j]=0\n",
    "    pPiv[j]=0\n",
    "    #Если не попали в интервал, то кладем в счетчик 1.\n",
    "    if np.mean(1*(thX>th))<0.025 or np.mean(1*(thX<th))<0.025:\n",
    "          pPerc[j]=1\n",
    "    if np.mean(1*((2*th1-thX)>th))<0.025 or np.mean(1*((2*th1-thX)<th))<0.025:\n",
    "      pPiv[j]=1\n",
    "#Выводим долю числа испытаний, когда интервал не накрыл параметр. По идее это должно быть где-то 0.05\n",
    "print(sum(pPiv/1000))\n",
    "print(sum(pPerc/1000))\n",
    "#Percentile метод не сработал вообще, а вот Pivotal сработал более или менее\n"
   ]
  },
  {
   "cell_type": "code",
   "execution_count": 6,
   "metadata": {},
   "outputs": [
    {
     "name": "stdout",
     "output_type": "stream",
     "text": [
      "0.04000000000000003\n",
      "0.1480000000000001\n"
     ]
    }
   ],
   "source": [
    "pPerc, pPiv = np.zeros(1000), np.zeros(1000)\n",
    "#истинное значение параметра theta\n",
    "th=1\n",
    "for j in range(1000):\n",
    "    #моделируем выборку и оцениваем ее максимум несмещенно\n",
    "    x=rand.random(50)*th\n",
    "    th1=max(x)*51/50  \n",
    "    thX=np.zeros(100)\n",
    "    for i in range(100):\n",
    "        thX[i]=max(rand.random(50)*th1)*51/50\n",
    "    pPerc[j]=0\n",
    "    pPiv[j]=0\n",
    "    #Если не попали в интервал, то кладем в счетчик 1.\n",
    "    if np.mean(1*(thX>th))<0.025 or np.mean(1*(thX<th))<0.025:\n",
    "          pPerc[j]=1\n",
    "    if np.mean(1*(2*th1-thX>th))<0.025 or np.mean(1*(2*th1-thX<th))<0.025:\n",
    "      pPiv[j]=1\n",
    "#Выводим долю числа испытаний, когда интервал не накрыл параметр. По идее это должно быть где-то 0.05\n",
    "print(sum(pPiv/1000))\n",
    "print(sum(pPerc/1000))\n",
    "#С Percentile методом стало лучше, но все равно не очень, Pivotal в порядке"
   ]
  },
  {
   "cell_type": "code",
   "execution_count": 9,
   "metadata": {},
   "outputs": [
    {
     "name": "stdout",
     "output_type": "stream",
     "text": [
      "0.06300000000000004\n",
      "0.06300000000000004\n"
     ]
    }
   ],
   "source": [
    "pPerc, pPiv = np.zeros(1000), np.zeros(1000)\n",
    "#истинное значение параметра theta\n",
    "th=1\n",
    "for j in range(1000):\n",
    "    #моделируем нормальную выборку и оцениваем ее средним\n",
    "    x=rand.normal(size=50)+th\n",
    "    th1=np.mean(x)\n",
    "    thX=np.zeros(100)\n",
    "    for i in range(100):\n",
    "        thX[i]=np.mean(rand.normal(size=50)+th1)\n",
    "    pPerc[j]=0\n",
    "    pPiv[j]=0\n",
    "    #Если не попали в интервал, то кладем в счетчик 1.\n",
    "    if np.mean(1*(thX>th))<0.025 or np.mean(1*(thX<th))<0.025:\n",
    "          pPerc[j]=1\n",
    "    if np.mean(1*(2*th1-thX>th))<0.025 or np.mean(1*(2*th1-thX<th))<0.025:\n",
    "          pPiv[j]=1\n",
    "#Выводим долю числа испытаний, когда интервал не накрыл параметр. По идее это должно быть где-то 0.05\n",
    "print(sum(pPiv/1000))\n",
    "print(sum(pPerc/1000))\n",
    "#На симметричном распределении при отсутствии смещения все стало хорошо"
   ]
  }
 ],
 "metadata": {
  "kernelspec": {
   "display_name": "Python 3",
   "language": "python",
   "name": "python3"
  },
  "language_info": {
   "codemirror_mode": {
    "name": "ipython",
    "version": 3
   },
   "file_extension": ".py",
   "mimetype": "text/x-python",
   "name": "python",
   "nbconvert_exporter": "python",
   "pygments_lexer": "ipython3",
   "version": "3.10.4"
  },
  "orig_nbformat": 4,
  "vscode": {
   "interpreter": {
    "hash": "9a22608fd316047f994308a50da8ff2876a45a85c6efa71dc148ad0e10c959df"
   }
  }
 },
 "nbformat": 4,
 "nbformat_minor": 2
}
